{
 "cells": [
  {
   "cell_type": "code",
   "execution_count": 5,
   "metadata": {},
   "outputs": [
    {
     "output_type": "display_data",
     "data": {
      "text/plain": "Figure(layout=FigureLayout(height='420px'))",
      "application/vnd.jupyter.widget-view+json": {
       "version_major": 2,
       "version_minor": 0,
       "model_id": "a26cf8050cb54bf78ed645b8ef088ad2"
      }
     },
     "metadata": {}
    }
   ],
   "source": [
    "from secret import Secret\n",
    "import gmaps\n",
    "import gmaps.datasets\n",
    "import pandas\n",
    "\n",
    "gmaps.configure(api_key=Secret.google_api_key)\n",
    "\n",
    "housing_df = pandas.read_csv('housing-data/houston.csv', nrows=10000)\n",
    "\n",
    "year_to_check = 2018\n",
    "\n",
    "locations = housing_df[['LAT', 'LON']]\n",
    "\n",
    "weight_df = abs(((housing_df[str(year_to_check) + '_value'] - housing_df[str(year_to_check-1) + '_value']) / housing_df[str(year_to_check-1) + '_value'])*100) # (new - old/ old)*100\n",
    "# toggle between biggest gains and biggest losses\n",
    "\n",
    "fig = gmaps.figure()\n",
    "fig.add_layer(gmaps.heatmap_layer(locations, weights=weight_df))\n",
    "fig"
   ]
  }
 ],
 "metadata": {
  "language_info": {
   "codemirror_mode": {
    "name": "ipython",
    "version": 3
   },
   "file_extension": ".py",
   "mimetype": "text/x-python",
   "name": "python",
   "nbconvert_exporter": "python",
   "pygments_lexer": "ipython3",
   "version": "3.7.3-final"
  },
  "orig_nbformat": 2,
  "kernelspec": {
   "name": "python37364bit02fe1f89815240d88ede2d6925d8e736",
   "display_name": "Python 3.7.3 64-bit"
  }
 },
 "nbformat": 4,
 "nbformat_minor": 2
}